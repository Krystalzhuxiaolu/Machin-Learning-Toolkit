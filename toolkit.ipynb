{
 "metadata": {
  "language_info": {
   "codemirror_mode": {
    "name": "ipython",
    "version": 3
   },
   "file_extension": ".py",
   "mimetype": "text/x-python",
   "name": "python",
   "nbconvert_exporter": "python",
   "pygments_lexer": "ipython3",
   "version": "3.9.1-final"
  },
  "orig_nbformat": 2,
  "kernelspec": {
   "name": "python3",
   "display_name": "Python 3.9.1 64-bit",
   "metadata": {
    "interpreter": {
     "hash": "5abf3f60dc254cd656abb480d766db2d60a64423ce92680f144b473b08e2803f"
    }
   }
  }
 },
 "nbformat": 4,
 "nbformat_minor": 2,
 "cells": [
  {
   "source": [
    "# Importing libraries"
   ],
   "cell_type": "markdown",
   "metadata": {}
  },
  {
   "cell_type": "code",
   "execution_count": null,
   "metadata": {},
   "outputs": [],
   "source": [
    "import numpy as np\n",
    "import matplotlib.pyplot as plt\n",
    "import pandas as pd\n",
    "import sklearn \n",
    "from sklearn.model_selection import train_test_split"
   ]
  },
  {
   "source": [
    "# Importing datasets"
   ],
   "cell_type": "markdown",
   "metadata": {}
  },
  {
   "cell_type": "code",
   "execution_count": null,
   "metadata": {},
   "outputs": [],
   "source": [
    "df = pd.read_table(\"xxx\")\n",
    "df = pd.read_csv(\".csv\") ####csv file\n",
    "df = pd.read_excel(\".xlsx\") ### excel workbook \n",
    "\n",
    "###always put the last column as your responce variables and the first few cols as your features\n",
    "X = df.iloc[:,:-1].values ##all columns except the last col, not dataframe anymore\n",
    "y = df.iloc[:,-1].values "
   ]
  },
  {
   "source": [
    "# Taking care of missing data"
   ],
   "cell_type": "markdown",
   "metadata": {}
  },
  {
   "cell_type": "code",
   "execution_count": null,
   "metadata": {},
   "outputs": [],
   "source": [
    "from sklearn.impute import SimpleImputer\n",
    "imputer = SimpleImputer(missing_values=np.nan, strategy='mean') ##replace the missing data with the average of the data along that col\n",
    "###imputer is now just an object, now we have to apply this object to the dataframe\n",
    "imputer.fit(X[:,1:3]) ##check col 1-3 to see any missing values\n",
    "X[:,1:3] = imputer.transform(X[:,1:3]) ##update missing values and change the value of the cols to the updated ones\n"
   ]
  },
  {
   "source": [
    "# Encoding categorical data\n",
    "change string variables into numbers"
   ],
   "cell_type": "markdown",
   "metadata": {}
  },
  {
   "cell_type": "code",
   "execution_count": null,
   "metadata": {},
   "outputs": [],
   "source": [
    "from sklearn.compose import ColumnTransformer\n",
    "from sklearn.preprocessing import OneHotEncoder"
   ]
  },
  {
   "cell_type": "code",
   "execution_count": null,
   "metadata": {},
   "outputs": [],
   "source": [
    "ct = ColumnTransformer(transformers=[(\"encoder\",OneHotEncoder(),[0])],remainder='passthrough') ###passthrough means keep the remaining cols that are not transformed\n",
    "X = np.array(ct.fit_transform(X)) ###machine learning models would expect the the features to be np array, and the dependant variable not need to be\n"
   ]
  },
  {
   "source": [
    "# Encoding dependant variables (change yes/no to 1/0)"
   ],
   "cell_type": "markdown",
   "metadata": {}
  },
  {
   "cell_type": "code",
   "execution_count": null,
   "metadata": {},
   "outputs": [],
   "source": [
    "from sklearn.preprocessing import LabelEncoder\n",
    "le = LabelEncoder()\n",
    "y = le.fit_transform(y) "
   ]
  },
  {
   "source": [
    "# Splitting the dataset into the Training set and Test set\n",
    "# You have to apply feature scalling after the splitting (since you should be touch your test set)"
   ],
   "cell_type": "markdown",
   "metadata": {}
  },
  {
   "cell_type": "code",
   "execution_count": null,
   "metadata": {},
   "outputs": [],
   "source": [
    "from sklearn.model_selection import train_test_split\n",
    "X_train, X_test, y_train, y_test = train_test_split(X, y, test_size = 0.2, random_state = 0) ###random split your train and test set, random_state =1 means you fix the seed\n",
    "\n",
    "####Or you use the dates to seperate your training and testing set in financial time series\n",
    "X =  dfret[[\"lags1\",\"lags2\"]]\n",
    "Y =  dfret[\"Direction\"]\n",
    "\n",
    "start_test = dt.datetime (2020,6,1)\n",
    "\n",
    "###create training and testing data sets\n",
    "X_train = X[X.index < start_test]\n",
    "X_test = X[X.index >= start_test]  \n",
    "\n",
    "\n",
    "\n",
    "Y_train = Y[Y.index < start_test]\n",
    "Y_test = Y[Y.index >= start_test]"
   ]
  },
  {
   "source": [
    "# Feature Scaling \n",
    "## (To put all our features on the same scale, this is to avoid some features to be dominated by other features in such a way that the dominated features are not even considered by the machine learning model)\n",
    "## (only applicable to some machine learning models, no need to apply it to all models)"
   ],
   "cell_type": "markdown",
   "metadata": {}
  },
  {
   "cell_type": "code",
   "execution_count": null,
   "metadata": {},
   "outputs": [],
   "source": [
    "standardization = x-mean(x)/sd(x)        ###all values between (-3,3)  always work regardless of distribution of x\n",
    "normalisation = x-min(x)/max(x)-min(x)   ###all values between (0,1) recommended when your features are normally distributed"
   ]
  },
  {
   "cell_type": "code",
   "execution_count": null,
   "metadata": {},
   "outputs": [],
   "source": [
    "from sklearn.preprocessing import StandardScaler\n",
    "sc = StandardScaler() ###standardization = x-mean(x)/sd(x) \n",
    "X_train[:, 3:] = sc.fit_transform(X_train[:, 3:])\n",
    "X_test[:, 3:] = sc.transform(X_test[:, 3:]) ###do not fit your test data set, just transform it and apply it with our results"
   ]
  },
  {
   "cell_type": "code",
   "execution_count": null,
   "metadata": {},
   "outputs": [],
   "source": []
  }
 ]
}